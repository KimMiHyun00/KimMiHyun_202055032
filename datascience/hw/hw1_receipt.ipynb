{
 "cells": [
  {
   "cell_type": "code",
   "execution_count": 6,
   "metadata": {},
   "outputs": [
    {
     "name": "stdout",
     "output_type": "stream",
     "text": [
      "Customer One Items: \n",
      "Lovely Loveseat. Tufed polyester blend on wood. 32 inches high x 40 inches wide x 30 inches deep. Red or White.Luxurious Lamp. Glass and iron. 36 inches tall. Brown with cream shade.\n",
      "Customer One Total: \n",
      "333.09119999999996\n"
     ]
    }
   ],
   "source": [
    "\"\"\"과제1: Recipts for Lovely Loveseats\"\"\"\n",
    "##Adding In The Catalog\n",
    "#task 1\n",
    "lovely_loveseat_description = 'Lovely Loveseat. Tufed polyester blend on wood. 32 inches high x 40 inches wide x 30 inches deep. Red or White.'\n",
    "\n",
    "#task 2\n",
    "lovely_loveseat_price = 254.00\n",
    "\n",
    "#task 3\n",
    "stlish_settee_description = 'Sttlish Settee. Faux leather on birch. 29.50 inches high x 54.75 inches wide x 28 inches deep. Black.'\n",
    "\n",
    "#task 4\n",
    "stylish_settee_price = 180.50\n",
    "\n",
    "#task 5\n",
    "luxurious_lamp_description = 'Luxurious Lamp. Glass and iron. 36 inches tall. Brown with cream shade.'\n",
    "\n",
    "#task 6\n",
    "luxurious_lamp_price = 52.15\n",
    "\n",
    "#task 7\n",
    "sales_tax = .088\n",
    "\n",
    "##Our First Customer\n",
    "#task 8\n",
    "customer_one_total = 0\n",
    "\n",
    "#task 9\n",
    "customer_one_itemization = \"\"\n",
    "\n",
    "#task 10\n",
    "customer_one_total += lovely_loveseat_price\n",
    "\n",
    "#task 11\n",
    "customer_one_itemization += lovely_loveseat_description\n",
    "\n",
    "#task 12\n",
    "customer_one_total += luxurious_lamp_price\n",
    "\n",
    "#task 13\n",
    "customer_one_itemization += luxurious_lamp_description\n",
    "\n",
    "#task 14\n",
    "customer_one_tax = customer_one_total * sales_tax\n",
    "\n",
    "#task 15\n",
    "customer_one_total += customer_one_tax\n",
    "\n",
    "#task 16\n",
    "print(\"Customer One Items: \")\n",
    "\n",
    "#task 17\n",
    "print(customer_one_itemization)\n",
    "\n",
    "#task 18\n",
    "print(\"Customer One Total: \")\n",
    "\n",
    "#task 19\n",
    "print(customer_one_total)"
   ]
  }
 ],
 "metadata": {
  "kernelspec": {
   "display_name": "Python 3",
   "language": "python",
   "name": "python3"
  },
  "language_info": {
   "codemirror_mode": {
    "name": "ipython",
    "version": 3
   },
   "file_extension": ".py",
   "mimetype": "text/x-python",
   "name": "python",
   "nbconvert_exporter": "python",
   "pygments_lexer": "ipython3",
   "version": "3.7.6"
  }
 },
 "nbformat": 4,
 "nbformat_minor": 4
}
