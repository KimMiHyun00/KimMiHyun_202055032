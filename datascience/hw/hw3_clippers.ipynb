{
 "cells": [
  {
   "cell_type": "code",
   "execution_count": 26,
   "metadata": {},
   "outputs": [
    {
     "name": "stdout",
     "output_type": "stream",
     "text": [
      "31.875\n",
      "[25, 20, 35, 15, 15, 30, 45, 30]\n",
      "1085\n",
      "155.0\n",
      "['buffant', 'pixie', 'crew', 'bowl']\n"
     ]
    }
   ],
   "source": [
    "hairstyles = [\"buffant\", \"pixie\", \"dreadlocks\", \"crew\", \"bowl\", \"bob\",\"mohawk\",\"flattop\"]\n",
    "prices = [30,25,40,20,20,35,50,35]\n",
    "last_week = [2,3,5,8,4,4,6,2]\n",
    "\n",
    "## Prices and cuts\n",
    "#1\n",
    "total_price = 0\n",
    "#2\n",
    "for i in range(0,len(prices)):\n",
    "    total_price += prices[i]\n",
    "#3\n",
    "average_price = total_price / len(prices)\n",
    "#4\n",
    "print(average_price)\n",
    "\n",
    "#5\n",
    "new_prices = [prices[i]-5 for i in range(len(prices))]\n",
    "#6\n",
    "print(new_prices)\n",
    "\n",
    "## Revenue\n",
    "#7\n",
    "total_revenue = 0\n",
    "#8,9\n",
    "for i in range(0,len(hairstyles)):\n",
    "    total_revenue += (prices[i] * last_week[i])\n",
    "#10\n",
    "print(total_revenue)\n",
    "#11\n",
    "average_daily_revenue = total_revenue / 7\n",
    "print(average_daily_revenue) #??이게 어케 155.0이 나오지..?\n",
    "\n",
    "#12\n",
    "cuts_under_30 = []\n",
    "for i in range(0,len(new_prices)-1):\n",
    "    if(new_prices[i]<30):\n",
    "        cuts_under_30.append(hairstyles[i])\n",
    "print(cuts_under_30)"
   ]
  }
 ],
 "metadata": {
  "kernelspec": {
   "display_name": "Python 3",
   "language": "python",
   "name": "python3"
  },
  "language_info": {
   "codemirror_mode": {
    "name": "ipython",
    "version": 3
   },
   "file_extension": ".py",
   "mimetype": "text/x-python",
   "name": "python",
   "nbconvert_exporter": "python",
   "pygments_lexer": "ipython3",
   "version": "3.7.6"
  }
 },
 "nbformat": 4,
 "nbformat_minor": 4
}
