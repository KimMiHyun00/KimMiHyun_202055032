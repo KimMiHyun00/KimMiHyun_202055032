{
 "cells": [
  {
   "cell_type": "code",
   "execution_count": 51,
   "metadata": {},
   "outputs": [
    {
     "name": "stdout",
     "output_type": "stream",
     "text": [
      "[['physics', 98], ['calculus', 97], ['poetry', 85], ['history', 88]]\n"
     ]
    }
   ],
   "source": [
    "\"\"\"과제2: Gradebook\"\"\"\n",
    "##Create Some Lists:\n",
    "#task1\n",
    "subjects = [\"physics\", \"calculus\", \"poetry\",\"history\"]\n",
    "#task2\n",
    "grades = [98, 97, 85, 88] #only concatenate str\n",
    "#task3\n",
    "gradebook = [[subjects[0], grades[0]], [subjects[1], grades[1]],\n",
    "            [subjects[2], grades[2]], [subjects[3], grades[3]]]\n",
    "#task4\n",
    "print(gradebook)\n",
    "\n",
    "#task5\n",
    "gradebook.append(['computer science', 100])\n",
    "\n",
    "#task6\n",
    "gradebook.append(['visual arts', 93])\n",
    "\n",
    "##Modify The Gradbook\n",
    "#task7\n",
    "gradebook[5][1] = 98\n",
    "\n",
    "#task8\n",
    "gradebook[2].remove(85)\n",
    "\n",
    "#task9\n",
    "gradebook[2].append(\"Pass\")\n",
    "\n",
    "\n",
    "##One Big Gradebook!\n",
    "#task10\n",
    "last_semester_gradebook = [[\"politics\", 80], [\"latin\", 96], [\"dance\", 97], [\"architecture\", 65]]\n",
    "\n",
    "full_gradebook = "
   ]
  },
  {
   "cell_type": "code",
   "execution_count": null,
   "metadata": {},
   "outputs": [],
   "source": []
  }
 ],
 "metadata": {
  "kernelspec": {
   "display_name": "Python 3",
   "language": "python",
   "name": "python3"
  },
  "language_info": {
   "codemirror_mode": {
    "name": "ipython",
    "version": 3
   },
   "file_extension": ".py",
   "mimetype": "text/x-python",
   "name": "python",
   "nbconvert_exporter": "python",
   "pygments_lexer": "ipython3",
   "version": "3.7.6"
  }
 },
 "nbformat": 4,
 "nbformat_minor": 4
}
