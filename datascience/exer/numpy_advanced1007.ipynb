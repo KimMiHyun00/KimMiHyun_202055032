{
 "cells": [
  {
   "cell_type": "code",
   "execution_count": 35,
   "metadata": {},
   "outputs": [],
   "source": [
    "import numpy as np"
   ]
  },
  {
   "cell_type": "code",
   "execution_count": 2,
   "metadata": {},
   "outputs": [
    {
     "data": {
      "text/plain": [
       "'\\n유니버셜 함수: numpy에서 제공하는 벡터화 연산 함수\\n(numpy.ufunc)\\n-다차원배열에 대한 원소 별 연산 수행 // 간결한 문법과 빠른 계산\\n-벡터화(vectorization): 루프 연산을 인터프리터 계층이 아닌 \"컴파일 계층\"에서 수행\\n   >> 배열 연산을 빠르게 처리 가능\\n * python loop(for, while)\\n    ex) for i in range(len(arr))\\n          arr[i] += 5\\n **python: 동적타입언어의 특정상 연산의 속도가 느리다\\n * Numpy Universal Functions\\n'"
      ]
     },
     "execution_count": 2,
     "metadata": {},
     "output_type": "execute_result"
    }
   ],
   "source": [
    "\"\"\"\n",
    "유니버셜 함수: numpy에서 제공하는 벡터화 연산 함수\n",
    "(numpy.ufunc)\n",
    "-다차원배열에 대한 원소 별 연산 수행 // 간결한 문법과 빠른 계산\n",
    "-벡터화(vectorization): 루프 연산을 인터프리터 계층이 아닌 \"컴파일 계층\"에서 수행\n",
    "   >> 배열 연산을 빠르게 처리 가능\n",
    " * python loop(for, while)\n",
    "    ex) for i in range(len(arr))\n",
    "          arr[i] += 5\n",
    " **python: 동적타입언어의 특정상 연산의 속도가 느리다\n",
    " * Numpy Universal Functions\n",
    " \n",
    " *유연한 연산_ 스칼라-벡터,배열배열,다차원배열\n",
    " *벡터화 연산이 라이썬 루프보다 대부분 더 효율적임\n",
    "\"\"\""
   ]
  },
  {
   "cell_type": "code",
   "execution_count": 39,
   "metadata": {},
   "outputs": [
    {
     "name": "stdout",
     "output_type": "stream",
     "text": [
      "[6 8 1 2 5]\n"
     ]
    },
    {
     "data": {
      "text/plain": [
       "array([0.16666667, 0.125     , 1.        , 0.5       , 0.2       ])"
      ]
     },
     "execution_count": 39,
     "metadata": {},
     "output_type": "execute_result"
    }
   ],
   "source": [
    "\"\"\"\n",
    "Computing reciprocals in loops\n",
    "\"\"\"\n",
    "\n",
    "def compute_reciprocals(values):\n",
    "    output = np.empty(len(values))\n",
    "    for i in range(len(values)):\n",
    "        output[i] = 1.0/values[i]\n",
    "    return output\n",
    "values = np.random.randint(1,10,size=5)\n",
    "print(values)\n",
    "\n",
    "compute_reciprocals(values)"
   ]
  },
  {
   "cell_type": "code",
   "execution_count": 40,
   "metadata": {},
   "outputs": [
    {
     "name": "stdout",
     "output_type": "stream",
     "text": [
      "2.21 s ± 100 ms per loop (mean ± std. dev. of 7 runs, 1 loop each)\n"
     ]
    }
   ],
   "source": [
    "\"\"\"\n",
    "Comparsion: loop vs ufuncs\n",
    "\"\"\"\n",
    "\n",
    "big_arr = np.random.randint(1,10,size=1000000)\n",
    "# 그것의 평균시간 리턴해줌\n",
    "\n",
    "# looping on a big arr\n",
    "%timeit compute_reciprocals(big_arr)"
   ]
  },
  {
   "cell_type": "code",
   "execution_count": 5,
   "metadata": {},
   "outputs": [
    {
     "name": "stdout",
     "output_type": "stream",
     "text": [
      "6.03 ms ± 540 µs per loop (mean ± std. dev. of 7 runs, 100 loops each)\n"
     ]
    }
   ],
   "source": [
    "# vectorized operations\n",
    "%timeit 1/ big_arr"
   ]
  },
  {
   "cell_type": "code",
   "execution_count": 10,
   "metadata": {},
   "outputs": [
    {
     "name": "stdout",
     "output_type": "stream",
     "text": [
      "[5 8 9 5 0]\n",
      "[ 3  6  7  3 -2]\n",
      "[ 3  7 14  9  7]\n",
      "[[2 4 5 2 4]\n",
      " [2 4 7 7 9]\n",
      " [1 7 0 6 9]]\n"
     ]
    }
   ],
   "source": [
    "\"\"\"\n",
    "numpy.ufunc\n",
    "\"\"\"\n",
    "\n",
    "np.random.seed(1)\n",
    "arr1 = np.random.randint(10,size=(5))\n",
    "arr2 = np.random.randint(10,size=(5))\n",
    "print(arr1)\n",
    "\n",
    "arr1 = arr1-2\n",
    "print(arr1)\n",
    "\n",
    "arr3 = arr1 + arr2\n",
    "print(arr3)\n",
    "\n",
    "arr4 = np.random.randint(10,size=(3,5))\n",
    "print(arr4)\n",
    "\n",
    "arr5 = arr4**2\n",
    "# arr5\n"
   ]
  },
  {
   "cell_type": "code",
   "execution_count": 17,
   "metadata": {},
   "outputs": [
    {
     "name": "stdout",
     "output_type": "stream",
     "text": [
      "x   = [0 1 2 3]\n",
      "x +3  = [3 4 5 6]\n",
      "[2 1 0 1 2]\n",
      "[0.         1.57079633 3.14159265]\n",
      "[0.0000000e+00 1.0000000e+00 1.2246468e-16]\n",
      "[ 1.000000e+00  6.123234e-17 -1.000000e+00]\n",
      "[ 0.00000000e+00  1.63312394e+16 -1.22464680e-16]\n"
     ]
    }
   ],
   "source": [
    "\"\"\"\n",
    "UFunc\n",
    "배열의 사칙연산: 파이선 기본 산술 연산자 / UFunc사용\n",
    " ex) x = np.arange(4) -> x+3 or np.add(x,3)\n",
    "\n",
    "\"\"\"\n",
    "# add()\n",
    "x = np.arange(4)\n",
    "print(\"x   =\",x)\n",
    "print(\"x +3  =\",x+3)\n",
    "\n",
    "##Absolur Value_ np.abs()\n",
    "#파이썬에서도 빌트인 펑션으로 있지만, 벡터화 연산을 위해 넘파이 이용\n",
    "x = np.array([-2,-1,0,1,2])\n",
    "print(np.abs(x))\n",
    "\n",
    "# 복소수_j붙이면 인식\n",
    "x = np.array([3+4j,4+3j,2+0j,0+1j])\n",
    "\n",
    "## linspaxe(start,stop,num) : 선형 간격의 벡터 생성\n",
    "# 다양한 벡터/행렬생성에 자주 사용\n",
    "\n",
    "x = np.linspace(0,100,5)\n",
    "\n",
    "##삼각함수\n",
    "# np.sin(), np.cos(), np.tan()\n",
    "# -역삼각함수도 제공함\n",
    "\n",
    "theta = np.linspace(0,np.pi,3)\n",
    "print(theta)\n",
    "print(np.sin(theta))\n",
    "print(np.cos(theta))\n",
    "print(np.tan(theta))\n",
    "\n"
   ]
  },
  {
   "cell_type": "code",
   "execution_count": 18,
   "metadata": {},
   "outputs": [
    {
     "data": {
      "text/plain": [
       "'\\n\\n'"
      ]
     },
     "execution_count": 18,
     "metadata": {},
     "output_type": "execute_result"
    }
   ],
   "source": [
    "\"\"\"\n",
    "etc:\n",
    "\"\"\"\n",
    "# 지수와 로그np.exp(), np.power, np.log(),np.lon10()\n",
    "# scipy.special:고급 수치연산을 유니버셜 함수 형태로 제공하는 패키지\n",
    "#   >> 특수한 분야에서 사용되는 고급수치 연산 유니버셜 함수 제공"
   ]
  },
  {
   "cell_type": "code",
   "execution_count": 21,
   "metadata": {},
   "outputs": [
    {
     "name": "stdout",
     "output_type": "stream",
     "text": [
      "[1 2 3 4]\n",
      "10\n",
      "24\n",
      "\n",
      "\n",
      "[ 1  2  3  4  5  6  7  8  9 10 11 12 13 14]\n",
      "[  1   3   6  10  15  21  28  36  45  55  66  78  91 105]\n",
      "[         1          2          6         24        120        720\n",
      "       5040      40320     362880    3628800   39916800  479001600\n",
      " 1932053504 1278945280]\n"
     ]
    }
   ],
   "source": [
    "\"\"\"\n",
    "UFuncs: Aggregation\n",
    "집계하는 함수\n",
    "\"\"\"\n",
    "## reduce(): 배열을 특정 연산으로 축소\n",
    "# 각 원소에 대한 연산을 수행한 후 한개의 스칼라 값으로 나오게\n",
    "x = np.arange(1,5)\n",
    "print(x)\n",
    "aggr = np.add.reduce(x)\n",
    "print(aggr)\n",
    "aggr = np.multiply.reduce(x)\n",
    "print(aggr)\n",
    "\n",
    "print(\"\\n\")\n",
    "# accumulate(): 계산의 중간 결과들을 배열로 저장\n",
    "x = np.arange(1,15)\n",
    "print(x)\n",
    "accum = np.add.accumulate(x)\n",
    "print(accum)\n",
    "accum = np.multiply.accumulate(x)\n",
    "print(accum)"
   ]
  },
  {
   "cell_type": "code",
   "execution_count": 27,
   "metadata": {},
   "outputs": [
    {
     "name": "stdout",
     "output_type": "stream",
     "text": [
      "sum =  499468.5166853333\n",
      "183 ms ± 3.44 ms per loop (mean ± std. dev. of 7 runs, 10 loops each)\n"
     ]
    }
   ],
   "source": [
    "## Summing the values in an Array\n",
    "#집계함수는 앵간 다 중요\n",
    "# np.sum()\n",
    "\n",
    "np.random.seed(2)\n",
    "arr = np.random.rand(1000000) #rand: create 0-1 real values\n",
    "print('sum = ',np.sum(arr)) #배열내 원소들을 더해서 결과값 출력\n",
    "\n",
    "%timeit sum(arr)"
   ]
  },
  {
   "cell_type": "code",
   "execution_count": 29,
   "metadata": {},
   "outputs": [
    {
     "name": "stdout",
     "output_type": "stream",
     "text": [
      "1.81 ms ± 55.7 µs per loop (mean ± std. dev. of 7 runs, 1000 loops each)\n"
     ]
    }
   ],
   "source": [
    "%timeit np.sum(arr) #파이썬 내장함수보다 빠르다"
   ]
  },
  {
   "cell_type": "code",
   "execution_count": 31,
   "metadata": {},
   "outputs": [
    {
     "name": "stdout",
     "output_type": "stream",
     "text": [
      "max =  0.9999976661165695\n",
      "min =  9.475783189216713e-07\n",
      "mean =  0.49946851668533326\n",
      "median =  0.49948650836352526\n",
      "0.49948650836352526\n",
      "False\n",
      "True\n"
     ]
    }
   ],
   "source": [
    "# Other Aggr, functions\n",
    "#누락값 안전버전 이용하면 누락값 무시하고 연산\n",
    "print(\"max = \",np.max(arr))\n",
    "print(\"min = \",np.min(arr))\n",
    "print(\"mean = \",np.mean(arr))\n",
    "print(\"median = \",np.median(arr))\n",
    "print(np.percentile(arr,50)) #arr이 0-1사이에서 만들어져 있으니까\n",
    "print(np.any(arr>1))\n",
    "print(np.all(arr>0))"
   ]
  },
  {
   "cell_type": "code",
   "execution_count": 38,
   "metadata": {},
   "outputs": [
    {
     "name": "stdout",
     "output_type": "stream",
     "text": [
      "[[3 6 6 0]\n",
      " [9 8 4 7]\n",
      " [0 0 7 1]]\n",
      "[12 14 17  8]\n",
      "[15 28  8]\n"
     ]
    }
   ],
   "source": [
    "\"\"\"\n",
    "Multi dimensional aggregates\n",
    "다차원 집게: 특정 차원을 기준으로 집계\n",
    "\"\"\"\n",
    "##axis속성\n",
    "# 0->1번째 차원인 row방향\n",
    "# 1->colum방향\n",
    "\n",
    "np.random.seed(5)\n",
    "\n",
    "arr = np.random.randint(10,size=(3,4))\n",
    "print(arr)\n",
    "\n",
    "print(np.sum(arr,axis=0))\n",
    "print(np.sum(arr,axis=1))"
   ]
  }
 ],
 "metadata": {
  "kernelspec": {
   "display_name": "Python 3",
   "language": "python",
   "name": "python3"
  },
  "language_info": {
   "codemirror_mode": {
    "name": "ipython",
    "version": 3
   },
   "file_extension": ".py",
   "mimetype": "text/x-python",
   "name": "python",
   "nbconvert_exporter": "python",
   "pygments_lexer": "ipython3",
   "version": "3.7.6"
  }
 },
 "nbformat": 4,
 "nbformat_minor": 4
}
