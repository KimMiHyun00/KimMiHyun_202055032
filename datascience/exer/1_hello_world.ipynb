{
 "cells": [
  {
   "cell_type": "code",
   "execution_count": 5,
   "metadata": {},
   "outputs": [
    {
     "name": "stdout",
     "output_type": "stream",
     "text": [
      "Hello World!\n",
      "100\n",
      "3.14\n",
      "My name is Mihyun\n"
     ]
    }
   ],
   "source": [
    "\"\"\"\n",
    "print() function\n",
    "\n",
    "\"\"\"\n",
    "\n",
    "print(\"Hello World!\")\n",
    "print(100)\n",
    "pi = 3.14\n",
    "print(pi)\n",
    "\n",
    "intro = \"My name is \"\n",
    "name = \"Mihyun\"\n",
    "\n",
    "print(intro + name)"
   ]
  },
  {
   "cell_type": "code",
   "execution_count": null,
   "metadata": {},
   "outputs": [],
   "source": []
  },
  {
   "cell_type": "code",
   "execution_count": 21,
   "metadata": {},
   "outputs": [
    {
     "name": "stdout",
     "output_type": "stream",
     "text": [
      "Mihyunhansin20@hs.ac.kr\n"
     ]
    }
   ],
   "source": [
    "\"\"\"Variables\"\"\"\n",
    "\n",
    "user_name = \"Mihyun\"\n",
    "user_id = 202055032\n",
    "user_email = \"hansin20@hs.ac.kr\"\n",
    "is_student = True\n",
    "\n",
    "#본인을 표현할 수 있는 세 가지 이상의 정보를 변수로 정의하시오\n",
    "name = \"Mihyun\"\n",
    "love = \"animals\"\n",
    "univ_id = 202055032\n",
    "is_female = True\n",
    "\n",
    "print(name + user_email)"
   ]
  },
  {
   "cell_type": "code",
   "execution_count": 11,
   "metadata": {},
   "outputs": [],
   "source": [
    "\"\"\"\n",
    "Data Types: Integers\n",
    "\"\"\"\n",
    "\n",
    "#본인의 집에 있는 사물의 갯수를 정수 유형의 변수로 정의(3가지 이상)\n",
    "tables = 1\n",
    "chairs = 5\n",
    "sofas = 1\n",
    "tv = 1\n"
   ]
  },
  {
   "cell_type": "code",
   "execution_count": 12,
   "metadata": {},
   "outputs": [],
   "source": [
    "\"\"\"\n",
    "Data Types: Real numbers\n",
    "\"\"\"\n",
    "pi = 3.14\n",
    "kospi_index = 3125.76\n",
    "krw_usd_exchange = 1176.83\n",
    "#본인이 알고있는 실수를 변수로 정의\n",
    "m_height = 160.1\n",
    "m_weight = 54.9\n",
    "pi = 3.14\n"
   ]
  },
  {
   "cell_type": "code",
   "execution_count": 14,
   "metadata": {},
   "outputs": [],
   "source": [
    "\"\"\"\n",
    "Data Types: Strings\n",
    "\"\"\"\n",
    "\n",
    "favorite_motte = \"Chance favors the prepared mind.\"\n",
    "favorite_game = \"Elder scrolls\"\n",
    "\n",
    "#\n",
    "favorite_animals = \"panda\"\n",
    "love_person = \"SHINee\"\n",
    "dont_like = \"danmuzi\"\n",
    "\n",
    "favorites = favorite_animals + \", \" + love_person\n"
   ]
  },
  {
   "cell_type": "code",
   "execution_count": 19,
   "metadata": {},
   "outputs": [
    {
     "name": "stdout",
     "output_type": "stream",
     "text": [
      "81\n"
     ]
    }
   ],
   "source": [
    "\"\"\"\n",
    "Plus_Equals Operation\n",
    "\"\"\"\n",
    "\n",
    "a = 9\n",
    "a **= 2 # a = a ** 2\n",
    "print(a)"
   ]
  },
  {
   "cell_type": "code",
   "execution_count": 23,
   "metadata": {},
   "outputs": [
    {
     "ename": "NameError",
     "evalue": "name 'my_school' is not defined",
     "output_type": "error",
     "traceback": [
      "\u001b[1;31m---------------------------------------------------------------------------\u001b[0m",
      "\u001b[1;31mNameError\u001b[0m                                 Traceback (most recent call last)",
      "\u001b[1;32m<ipython-input-23-0ae3648df60d>\u001b[0m in \u001b[0;36m<module>\u001b[1;34m\u001b[0m\n\u001b[0;32m      4\u001b[0m \u001b[1;33m\u001b[0m\u001b[0m\n\u001b[0;32m      5\u001b[0m \u001b[1;31m#Name Errors\u001b[0m\u001b[1;33m\u001b[0m\u001b[1;33m\u001b[0m\u001b[1;33m\u001b[0m\u001b[0m\n\u001b[1;32m----> 6\u001b[1;33m \u001b[0mprint\u001b[0m\u001b[1;33m(\u001b[0m\u001b[0mmy_school\u001b[0m\u001b[1;33m)\u001b[0m\u001b[1;33m\u001b[0m\u001b[1;33m\u001b[0m\u001b[0m\n\u001b[0m\u001b[0;32m      7\u001b[0m \u001b[0mmy_school\u001b[0m \u001b[1;33m=\u001b[0m \u001b[1;34m\"HSU\"\u001b[0m\u001b[1;33m\u001b[0m\u001b[1;33m\u001b[0m\u001b[0m\n",
      "\u001b[1;31mNameError\u001b[0m: name 'my_school' is not defined"
     ]
    }
   ],
   "source": [
    "\"\"\"\n",
    "Errors\n",
    "\"\"\"\n",
    "\n",
    "#Name Errors\n",
    "print(my_school)\n",
    "my_school = \"HSU\" #인터프린터는 코드를 위에서 밑으로 내려감->출력문 밑에 변수 정의했으므로 에러\n",
    "\n",
    "#Zero Division Errors"
   ]
  },
  {
   "cell_type": "code",
   "execution_count": 24,
   "metadata": {},
   "outputs": [],
   "source": [
    "x=1"
   ]
  },
  {
   "cell_type": "code",
   "execution_count": 25,
   "metadata": {},
   "outputs": [],
   "source": [
    "#깜박이는거 = edit mode\n",
    "x = 1\n",
    "#esc => 명령어 모드\n",
    "#문서 모드도 가능 (명령어 모드에서 M:마크다운)\n",
    "#명령어 모드에서 Y: 코드로 변경"
   ]
  }
 ],
 "metadata": {
  "kernelspec": {
   "display_name": "Python 3",
   "language": "python",
   "name": "python3"
  },
  "language_info": {
   "codemirror_mode": {
    "name": "ipython",
    "version": 3
   },
   "file_extension": ".py",
   "mimetype": "text/x-python",
   "name": "python",
   "nbconvert_exporter": "python",
   "pygments_lexer": "ipython3",
   "version": "3.7.6"
  }
 },
 "nbformat": 4,
 "nbformat_minor": 4
}
