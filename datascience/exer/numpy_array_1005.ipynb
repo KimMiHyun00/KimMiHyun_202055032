{
 "cells": [
  {
   "cell_type": "code",
   "execution_count": 8,
   "metadata": {},
   "outputs": [],
   "source": [
    "import numpy as np"
   ]
  },
  {
   "cell_type": "code",
   "execution_count": 11,
   "metadata": {},
   "outputs": [
    {
     "name": "stdout",
     "output_type": "stream",
     "text": [
      "[0 1 2]\n",
      "[3 4 5 6 7 8]\n",
      "[3 5 7]\n"
     ]
    }
   ],
   "source": [
    "\"\"\"\n",
    "Numpy Array Attributes\n",
    "\"\"\"\n",
    "# Creating an array\n",
    "print(np.arange(3))\n",
    "print(np.arange(3,9))\n",
    "print(np.arange(3,9,2))"
   ]
  },
  {
   "cell_type": "code",
   "execution_count": 23,
   "metadata": {},
   "outputs": [
    {
     "name": "stdout",
     "output_type": "stream",
     "text": [
      "[[5 0 3 3]\n",
      " [7 9 3 5]\n",
      " [2 4 7 6]]\n"
     ]
    }
   ],
   "source": [
    "#random number array\n",
    "\n",
    "np.random.seed(0)\n",
    "arr1 = np.random.randint(10, size=(3,4))\n",
    "print(arr1)"
   ]
  },
  {
   "cell_type": "code",
   "execution_count": 26,
   "metadata": {},
   "outputs": [
    {
     "name": "stdout",
     "output_type": "stream",
     "text": [
      "arr.ndim =  2\n",
      "arr.shape =  (3, 4)\n",
      "arr.size =  12\n",
      "arr.dtype =  int32\n",
      "arr.itemsize =  4\n",
      "arr.nbytes =  48\n"
     ]
    }
   ],
   "source": [
    "#Attributes\n",
    "\n",
    "np.random.seed(1)\n",
    "arr = np.random.randint(10, size=(3,4))\n",
    "arr\n",
    "print(\"arr.ndim = \", arr.ndim)\n",
    "print(\"arr.shape = \", arr.shape)#\n",
    "print(\"arr.size = \", arr.size)#\n",
    "\n",
    "print(\"arr.dtype = \", arr.dtype)#\n",
    "print(\"arr.itemsize = \", arr.itemsize)\n",
    "print(\"arr.nbytes = \", arr.nbytes) #only data 크기 "
   ]
  },
  {
   "cell_type": "code",
   "execution_count": 28,
   "metadata": {},
   "outputs": [
    {
     "name": "stdout",
     "output_type": "stream",
     "text": [
      "[0 1 2 3 4 5 6 7 8 9]\n",
      "[3 4 5 6]\n",
      "[0 1 2 3 4]\n",
      "[0 1 2 3 4]\n",
      "[0 3 6 9]\n",
      "[2 4 6]\n"
     ]
    }
   ],
   "source": [
    "\"\"\"\n",
    "Array Slicing: Accessing Subarrays\n",
    "\"\"\"\n",
    "\n",
    "arr2 = np.arange(10)\n",
    "\n",
    "print(arr2)\n",
    "print(arr2[3:7])\n",
    "print(arr2[:5])\n",
    "print(arr2[:5])\n",
    "print(arr2[::3])\n",
    "print(arr2[2:8:2])"
   ]
  },
  {
   "cell_type": "code",
   "execution_count": 32,
   "metadata": {},
   "outputs": [
    {
     "name": "stdout",
     "output_type": "stream",
     "text": [
      "[[8 8]\n",
      " [5 4]]\n",
      "[[99  8  6  2  8  7  2  1]\n",
      " [ 5  4  4  5  7  3  6  4]\n",
      " [ 3  7  6  1  3  5  8  4]\n",
      " [ 6  3  9  2  0  4  2  4]\n",
      " [ 1  7  8  2  9  8  7  1]\n",
      " [ 6  8  5  9  9  9  3  0]]\n"
     ]
    }
   ],
   "source": [
    "\"\"\"\n",
    "multi-dimensional Subarrays\n",
    "\"\"\"\n",
    "np.random.seed(2)\n",
    "arr = np.random.randint(10,size=(6,8))\n",
    "# slicing\n",
    "arr_sub = arr[:2, :2]\n",
    "print(arr_sub)\n",
    "\n",
    "# 원본값 변겅\n",
    "arr_sub[0,0] = 99\n",
    "print(arr)\n"
   ]
  },
  {
   "cell_type": "code",
   "execution_count": 38,
   "metadata": {},
   "outputs": [
    {
     "name": "stdout",
     "output_type": "stream",
     "text": [
      "[[8 9]\n",
      " [9 9]]\n",
      "[[8 9 3 8 8 0 5 3]\n",
      " [9 9 5 7 6 0 4 7]\n",
      " [8 1 6 2 2 1 3 5]\n",
      " [8 1 8 7 8 1 0 5]\n",
      " [4 1 5 4 7 6 0 0]\n",
      " [9 2 4 5 8 8 7 5]]\n"
     ]
    }
   ],
   "source": [
    "\"\"\"\n",
    "Subarrays as Views\n",
    "\"\"\"\n",
    "\n",
    "np.random.seed(3)\n",
    "arr = np.random.randint(10,size=(6,8))\n",
    "# copy()\n",
    "arr_sub1 = arr[:2, :2].copy()\n",
    "print(arr_sub1)\n",
    "\n",
    "arr_sub1[0,0] = 100\n",
    "print(arr)\n",
    "# print(arr_sub1)"
   ]
  },
  {
   "cell_type": "code",
   "execution_count": 45,
   "metadata": {},
   "outputs": [
    {
     "name": "stdout",
     "output_type": "stream",
     "text": [
      "[1 2 3 4 5 6 7 8 9] \n",
      "\n",
      "[[1 2 3]\n",
      " [4 5 6]\n",
      " [7 8 9]] \n",
      "\n",
      "[1 2 3]\n",
      "(3,) \n",
      "\n",
      "[[1 2 3]]\n",
      "(1, 3) \n",
      "\n",
      "[[1]\n",
      " [2]\n",
      " [3]]\n",
      "(3, 1) \n",
      "\n"
     ]
    }
   ],
   "source": [
    "\"\"\"\n",
    "Reshaping of Array\n",
    "\"\"\"\n",
    "\n",
    "row_vector = np.arange(1,10)\n",
    "print(row_vector, '\\n')\n",
    "\n",
    "grid = row_vector.reshape(3,3)\n",
    "print(grid, '\\n')\n",
    "\n",
    "#차원 추가\n",
    "arr = np.arange(1,4)\n",
    "arr_new = arr[np.newaxis, :] #matrix, row_vector\n",
    "arr_new2 = arr[:, np.newaxis] #matrix, colum_vector\n",
    "\n",
    "print(arr)\n",
    "print(arr.shape, '\\n')\n",
    "print(arr_new)\n",
    "print(arr_new.shape, '\\n')\n",
    "print(arr_new2)\n",
    "print(arr_new2.shape, '\\n')"
   ]
  },
  {
   "cell_type": "code",
   "execution_count": 51,
   "metadata": {},
   "outputs": [
    {
     "data": {
      "text/plain": [
       "array([[1, 2, 3],\n",
       "       [1, 2, 3],\n",
       "       [4, 5, 6],\n",
       "       [4, 5, 6],\n",
       "       [7, 8, 9],\n",
       "       [7, 8, 9]])"
      ]
     },
     "execution_count": 51,
     "metadata": {},
     "output_type": "execute_result"
    }
   ],
   "source": [
    "\"\"\"\n",
    "Array Concatenation\n",
    "\"\"\"\n",
    "\n",
    "arr_1 = np.array([[1,2,3],[1,2,3]])\n",
    "arr_2 = np.array([[4,5,6],[4,5,6]])\n",
    "arr_3 = np.array([[7,8,9],[7,8,9]])\n",
    "\n",
    "arr_total = np.concatenate([arr_1, arr_2, arr_3],axis = 0) #2차원 배열일 경우 axis사용해서 종.횡 조절가증\n",
    "arr_total\n",
    "\n",
    "# vstack()\n",
    "arr_total2 = np.vstack([arr_1, arr_2, arr_3])\n",
    "#차원이 추가됨\n",
    "arr_total3 = np.hstack([arr_1, arr_2, arr_3])\n",
    "arr_total"
   ]
  },
  {
   "cell_type": "code",
   "execution_count": 52,
   "metadata": {},
   "outputs": [
    {
     "name": "stdout",
     "output_type": "stream",
     "text": [
      "[1 2 3]\n",
      "[99 99]\n",
      "[3 2 1]\n"
     ]
    }
   ],
   "source": [
    "\"\"\"\n",
    "Array Splitting\n",
    "\"\"\"\n",
    "\n",
    "#split()\n",
    "arr = np.array([1,2,3,99,99,3,2,1])\n",
    "arr_1, arr_2, arr_3 = np.split(arr, [3,5])\n",
    "# 자르는 개수 +1 개의 배열로 나눠진다.\n",
    "print(arr, '\\n')\n",
    "print(arr_1)\n",
    "print(arr_2)\n",
    "print(arr_3)"
   ]
  }
 ],
 "metadata": {
  "kernelspec": {
   "display_name": "Python 3",
   "language": "python",
   "name": "python3"
  },
  "language_info": {
   "codemirror_mode": {
    "name": "ipython",
    "version": 3
   },
   "file_extension": ".py",
   "mimetype": "text/x-python",
   "name": "python",
   "nbconvert_exporter": "python",
   "pygments_lexer": "ipython3",
   "version": "3.7.6"
  }
 },
 "nbformat": 4,
 "nbformat_minor": 4
}
