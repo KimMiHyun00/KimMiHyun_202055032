{
 "cells": [
  {
   "cell_type": "code",
   "execution_count": 2,
   "metadata": {},
   "outputs": [
    {
     "name": "stdout",
     "output_type": "stream",
     "text": [
      "<class 'bool'>\n"
     ]
    }
   ],
   "source": [
    "is_tested = True\n",
    "print(type(is_tested))"
   ]
  },
  {
   "cell_type": "code",
   "execution_count": 5,
   "metadata": {},
   "outputs": [
    {
     "name": "stdout",
     "output_type": "stream",
     "text": [
      "True\n",
      "True\n",
      "False\n"
     ]
    },
    {
     "data": {
      "text/plain": [
       "False"
      ]
     },
     "execution_count": 5,
     "metadata": {},
     "output_type": "execute_result"
    }
   ],
   "source": [
    "#1\n",
    "print(\"Yes\" == 'Yes') #둘다 동일한 문자열으로 인식\n",
    "#2\n",
    "print((2>1) == (5<10)) #각각의 표현식에 대한 불리언 값이 동일\n",
    "#3\n",
    "c = '2'\n",
    "d = 2\n",
    "print(c == d) #c는 문자, d는 정수형 변수 => c != d\n",
    "\n",
    "chr = 'a'\n",
    "a = 97\n",
    "chr == a"
   ]
  },
  {
   "cell_type": "code",
   "execution_count": 13,
   "metadata": {},
   "outputs": [
    {
     "name": "stdout",
     "output_type": "stream",
     "text": [
      "아! 말티푸구나.\n",
      "True\n"
     ]
    }
   ],
   "source": [
    "\"\"\"\n",
    "conditional statments\n",
    "\"\"\"\n",
    "\n",
    "puppy = \"maltepoo\"\n",
    "age = 1\n",
    "is_yes = False\n",
    "\n",
    "if puppy == \"maltese\":\n",
    "    is_yes = True\n",
    "    print(\"말티즈 맞습니다\")\n",
    "    if age < 3:\n",
    "        print(\"말티즈 새끼에요.\")\n",
    "elif puppy == \"poodle\":\n",
    "    is_yes = False\n",
    "elif puppy == \"flknns\":\n",
    "    is_yes = True\n",
    "else:\n",
    "    print(\"아! 말티푸구나.\")\n",
    "    is_yes = True\n",
    "    \n",
    "print(is_yes)"
   ]
  },
  {
   "cell_type": "code",
   "execution_count": 18,
   "metadata": {},
   "outputs": [
    {
     "name": "stdout",
     "output_type": "stream",
     "text": [
      "Error\n",
      "continue...\n"
     ]
    }
   ],
   "source": [
    "#Exception Handling\n",
    "\n",
    "\n",
    "x = 1\n",
    "\n",
    "try:\n",
    "    print(y)\n",
    "    print(x)\n",
    "except:\n",
    "    print('Error')\n",
    "print(\"continue...\")"
   ]
  }
 ],
 "metadata": {
  "kernelspec": {
   "display_name": "Python 3",
   "language": "python",
   "name": "python3"
  },
  "language_info": {
   "codemirror_mode": {
    "name": "ipython",
    "version": 3
   },
   "file_extension": ".py",
   "mimetype": "text/x-python",
   "name": "python",
   "nbconvert_exporter": "python",
   "pygments_lexer": "ipython3",
   "version": "3.7.6"
  }
 },
 "nbformat": 4,
 "nbformat_minor": 4
}
