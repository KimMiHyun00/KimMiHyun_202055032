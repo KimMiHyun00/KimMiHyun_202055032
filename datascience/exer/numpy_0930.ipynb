{
 "cells": [
  {
   "cell_type": "code",
   "execution_count": null,
   "metadata": {},
   "outputs": [],
   "source": [
    "\"\"\"\n",
    "파이썬: 코드 생산성이 높다\n",
    "-인터프리터 방식 >때문에 c언어 보다는 프로그램을 효율적으로 짤 수 있다.\n",
    " >컴파일러 언어는 동작하기가 더 까다롭다\n",
    "-동적타입 언어: 변수형 선언 필요 x\n",
    " >>정적타입: 변수와 변수형을 선언해줘야 한다\n",
    "-high-level > 사람이 좀더 프로그래밍 하기 편하다\n",
    " >>low-level: 어셈블러/ 기계어 ect...\n",
    "*파이썬은 느리다?: 반복문ㄴ의 느린 실행속도\n",
    " -파이썬은 동적타입 > 타입확인과 함수 디스패치 오버헤드 무조건 발생\n",
    " 타입확인: 실행시점에서 객체의 타입을 결정\n",
    " 함수 디스패치: 객체 타입에 맞는 함수를 동적으로 할당\n",
    " >>> 반복문의 경우, 각 루프 사이클마다 타입 확인/함수 디스패치의 오버헤드가 커짐\n",
    " * 수치연산에 트고하된 라이브러리\n",
    "   Numpy: 다차원배열을 중심으로 수치계산 함수 제공\n",
    "    -패키지 설치: pip install numpy\n",
    "    -패키지 사용: import numpy  as np\n",
    " \n",
    "\"\"\""
   ]
  },
  {
   "cell_type": "code",
   "execution_count": 6,
   "metadata": {},
   "outputs": [],
   "source": [
    "import numpy as np\n",
    "import pandas as pd\n",
    "import matplotlib.pyplot as plt"
   ]
  },
  {
   "cell_type": "code",
   "execution_count": 8,
   "metadata": {},
   "outputs": [
    {
     "name": "stdout",
     "output_type": "stream",
     "text": [
      "[1 2 3 4]\n",
      "<class 'numpy.ndarray'>\n"
     ]
    }
   ],
   "source": [
    "\"\"\"\n",
    "파이썬 리스트:\n",
    "- 서로 다른 타입의 데이터 저장 가능\n",
    "-각 데이터 아이템은 객체\n",
    "numpy 배열:\n",
    "-서로 다른 타입의 ㄷㅔ이터 저장 가능\n",
    "-단일 타입일 경우 고정된 타입의 배열로 처리-> 처음 이후엔 타입확인x=> 리스트보다 빠름\n",
    "\"\"\"\n",
    "#Creating the numpy Array\n",
    "list = [1, 2, 3, 4]\n",
    "\n",
    "arr = np.array(list)\n",
    "print(arr)\n",
    "print(type(arr))"
   ]
  },
  {
   "cell_type": "code",
   "execution_count": 13,
   "metadata": {},
   "outputs": [
    {
     "data": {
      "text/plain": [
       "dtype('<U32')"
      ]
     },
     "execution_count": 13,
     "metadata": {},
     "output_type": "execute_result"
    }
   ],
   "source": [
    "# dtype attribute\n",
    "arr.dtype #bit단위로 보여줌\n",
    "\n",
    "lst = np.array([1, 1.4, \"1.1,1.2,2.5\"])\n",
    "lst.dtype"
   ]
  },
  {
   "cell_type": "code",
   "execution_count": 16,
   "metadata": {},
   "outputs": [
    {
     "name": "stdout",
     "output_type": "stream",
     "text": [
      "72\n",
      "100\n"
     ]
    }
   ],
   "source": [
    "\"\"\"\n",
    "size Comparison of ndarray and list objects\n",
    "\"\"\"\n",
    "from sys import getsizeof\n",
    "\n",
    "lst = [1] #64->72 //4bytes 이상 늘어남\n",
    "print(getsizeof(lst)) # 기본값은 numpy가 더 무거움\n",
    "\n",
    "arr = np.array([1]) #96->100, int: 4bytes\n",
    "print(getsizeof(arr))"
   ]
  },
  {
   "cell_type": "code",
   "execution_count": 24,
   "metadata": {},
   "outputs": [
    {
     "name": "stdout",
     "output_type": "stream",
     "text": [
      "[25 20 35 15 15 30 45 30]\n"
     ]
    }
   ],
   "source": [
    "\"\"\"\n",
    "Operations with NumPy ans Arrays\n",
    "\"\"\"\n",
    "\n",
    "prices = [30,25,40,20,20,35,50,35]\n",
    "\n",
    "#with a list\n",
    "new_prices = [prices - 5 for prices in prices]\n",
    "new_prices\n",
    "\n",
    "# with a ndarray\n",
    "price_arr = np.array(prices)\n",
    "price_arr -= 5\n",
    "print(price_arr)"
   ]
  },
  {
   "cell_type": "code",
   "execution_count": 33,
   "metadata": {},
   "outputs": [],
   "source": [
    "\"\"\"\n",
    "Ex. 시험 점수 처리\n",
    "\"\"\"\n",
    "\n",
    "test_1 = np.array([92,94,88,91,87])\n",
    "test_2 = np.array([79,100,86,93,91])\n",
    "test_3 = np.array([87,85,72,90,92])\n",
    "\n",
    "test_3_fixed = test_3 + 2\n",
    "# print(test_3_fixed)\n",
    "\n",
    "total_grade = test_1 + test_2 + test_3_fixed\n",
    "# print(total_grade)\n",
    "\n",
    "final_grade = total_grade / 3\n",
    "# final_grade\n",
    "#  2demention\n",
    "student_scores = np.array([test_1, test_2, test_3_fixed])\n",
    "jeremy_test_2 = student_scores[1, 3]\n",
    "manuak_adwoa_test_1 = np.array([student_scores[0,1], student_scores[0,2]])\n",
    "# print(jeremy_test_2)\n",
    "# print(manuak_adwoa_test_1)\n",
    "\n",
    "cody_total = student_scores[:,4] #[:,-1]도 가능\n",
    "# cody_total"
   ]
  },
  {
   "cell_type": "code",
   "execution_count": 41,
   "metadata": {},
   "outputs": [
    {
     "data": {
      "text/plain": [
       "array([4, 5, 7])"
      ]
     },
     "execution_count": 41,
     "metadata": {},
     "output_type": "execute_result"
    }
   ],
   "source": [
    "\"\"\"\n",
    "Logical Operations with Arrays\n",
    "\"\"\"\n",
    "##원소 단위의 논리 연산 가능 > 원소별로 bool값 계산\n",
    "\n",
    "# masking\n",
    "a = np.array([10,2,2,4,5,3,9,8,9,7])\n",
    "mask = a > 5\n",
    "\n",
    "#Select using losical operations \n",
    "selected = a[a > 5] #np.array 변수명[조건]\n",
    "\n",
    "# combined: AND'&', OR'/'\n",
    "selected = a[(a > 5) | (a < 3)]\n",
    "selected = a[(a > 3) & (a < 8)]"
   ]
  },
  {
   "cell_type": "code",
   "execution_count": 42,
   "metadata": {},
   "outputs": [
    {
     "name": "stdout",
     "output_type": "stream",
     "text": [
      "[50 56 51] [90 85 98] [79 65 50 63 56 90 85 98 79 51]\n"
     ]
    }
   ],
   "source": [
    "\"\"\"\n",
    "Exercise: Prridge\n",
    "\"\"\"\n",
    "porridge = np.array([79,65,50,63,56,90,85,98,79,51])\n",
    "cold = porridge[porridge < 60]\n",
    "hot = porridge[porridge > 80]\n",
    "just_right = porridge[(porridge >= 60) | (porridge <= 80)]\n",
    "\n",
    "print(cold, hot, just_right)"
   ]
  }
 ],
 "metadata": {
  "kernelspec": {
   "display_name": "Python 3",
   "language": "python",
   "name": "python3"
  },
  "language_info": {
   "codemirror_mode": {
    "name": "ipython",
    "version": 3
   },
   "file_extension": ".py",
   "mimetype": "text/x-python",
   "name": "python",
   "nbconvert_exporter": "python",
   "pygments_lexer": "ipython3",
   "version": "3.7.6"
  }
 },
 "nbformat": 4,
 "nbformat_minor": 4
}
