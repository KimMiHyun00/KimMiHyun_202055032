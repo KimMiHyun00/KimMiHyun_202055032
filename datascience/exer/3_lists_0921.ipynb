{
 "cells": [
  {
   "cell_type": "code",
   "execution_count": 3,
   "metadata": {},
   "outputs": [
    {
     "name": "stdout",
     "output_type": "stream",
     "text": [
      "[2, 3, 5, 7, 11, 2]\n",
      "[]\n"
     ]
    }
   ],
   "source": [
    "\"\"\"\n",
    "Lists\n",
    "\"\"\"\n",
    "\n",
    "primes = [2,3,5,7,11,2]\n",
    "print(primes)\n",
    "\n",
    "empty_list =[]\n",
    "print(empty_list)"
   ]
  },
  {
   "cell_type": "code",
   "execution_count": 7,
   "metadata": {},
   "outputs": [
    {
     "name": "stdout",
     "output_type": "stream",
     "text": [
      "['Jenny', 1, 1.14, True]\n",
      "[['a, 1'], ['b', 2]]\n"
     ]
    }
   ],
   "source": [
    "\"\"\"\n",
    "Multiple different data types\n",
    "\"\"\"\n",
    "mixed = ['Jenny', 1, 1.14, True]\n",
    "print(mixed)\n",
    "list_of_list = [['a, 1'], ['b', 2]]\n",
    "print(list_of_list)"
   ]
  },
  {
   "cell_type": "code",
   "execution_count": 9,
   "metadata": {},
   "outputs": [
    {
     "name": "stdout",
     "output_type": "stream",
     "text": [
      "Jonghyun\n",
      "Taemin\n",
      "Onew\n",
      "Minho\n",
      "Kibum\n"
     ]
    }
   ],
   "source": [
    "\"\"\"\n",
    "Zero_Indexing\n",
    "\"\"\"\n",
    "\n",
    "names = ['Jonghyun', 'Taemin', 'Onew', 'Minho', 'Kibum']\n",
    "\n",
    "print(names[0]) #first data\n",
    "print(names[1])\n",
    "print(names[2])\n",
    "print(names[3])\n",
    "print(names[4])"
   ]
  },
  {
   "cell_type": "code",
   "execution_count": 2,
   "metadata": {},
   "outputs": [
    {
     "name": "stdout",
     "output_type": "stream",
     "text": [
      "Kibum\n",
      "Onew\n",
      "Taemin Miss you ㅠㅠ\n"
     ]
    }
   ],
   "source": [
    "\"\"\"\n",
    "Negative-Indexing\n",
    "\"\"\"\n",
    "names = ['Jonghyun', 'Taemin', 'Onew', 'Minho', 'Kibum']\n",
    "print(names[-1]) #last data\n",
    "print(names[-3])\n",
    "print(names[-4] +' '+ 'Miss you ㅠㅠ')"
   ]
  },
  {
   "cell_type": "code",
   "execution_count": 20,
   "metadata": {},
   "outputs": [
    {
     "name": "stdout",
     "output_type": "stream",
     "text": [
      "['장공관', '필헌관', '소통관']\n",
      "['생활관', '필헌관', '소통관']\n",
      "['만우관', '장공관', '필헌관', '소통관', '송암관', '늦봄관', '장준하통일관']\n"
     ]
    }
   ],
   "source": [
    "\"\"\"\n",
    "List-Slicing\n",
    "\"\"\"\n",
    "\n",
    "hsu_buildings = ['만우관','장공관','필헌관','소통관','송암관','늦봄관','장준하통일관']\n",
    "building_slice = hsu_buildings[1:4] #독립적인 객체 형성\n",
    "\n",
    "print(building_slice)\n",
    "\n",
    "building_slice[0] = '생활관' #새로운 객체 만들어서 변경한 것\n",
    "print(building_slice)\n",
    "print(hsu_buildings) #원본은 변하지 않음"
   ]
  },
  {
   "cell_type": "code",
   "execution_count": 2,
   "metadata": {},
   "outputs": [
    {
     "name": "stdout",
     "output_type": "stream",
     "text": [
      "중화짜장\n",
      "맘스터치\n",
      "['해우리', '한식', '해우라면']\n"
     ]
    }
   ],
   "source": [
    "\"\"\"\n",
    "2-Dimensional Lists\n",
    "\"\"\"\n",
    "\n",
    "restaurants = [['해우리','한식','고s'],['짜장명가','중식','중화짜장'],\n",
    "              ['찌개동아리','한식','제육전골'],['맘스터치','양식','싸이버거']]\n",
    "print(restaurants[1][2])\n",
    "print(restaurants[3][0])\n",
    "\n",
    "restaurants[0][2] = '해우라면'\n",
    "print(restaurants[0])"
   ]
  },
  {
   "cell_type": "code",
   "execution_count": 26,
   "metadata": {},
   "outputs": [
    {
     "name": "stdout",
     "output_type": "stream",
     "text": [
      "['cake', 'cookie', 'bread', 'biscuit', 'tart']\n"
     ]
    }
   ],
   "source": [
    "\"\"\"\n",
    "Adding Lists Together\n",
    "\"\"\"\n",
    "\n",
    "items_one = ['cake','cookie','bread']\n",
    "items_two = ['biscuit','tart']\n",
    "\n",
    "total_items = items_one + items_two #리스트의 값을 모두 합칠때 사용\n",
    "print(total_items)"
   ]
  },
  {
   "cell_type": "code",
   "execution_count": 42,
   "metadata": {},
   "outputs": [
    {
     "name": "stdout",
     "output_type": "stream",
     "text": [
      "5\n",
      "3\n",
      "['daisies', 'periwinkle']\n",
      "['daisies', 'periwinkle', 'tulips']\n",
      "['karla', 'maxium', 'Martim', 'Isabella']\n",
      "['karla', 'maxium', 'Martim', 'Vikor', 'Isabella']\n",
      "['karla', 'maxium', 'Martim', 'Vikor']\n",
      "['C programming', 'Machine Learning', 'Data Engineering', 'Data Structures', 'Calculus']\n",
      "[4, 2, 1, 3]\n",
      "[1, 2, 3, 4]\n",
      "['늦봄관', '만우관', '소통관', '송암관', '장공관', '장준하통일관', '필헌관']\n",
      "['C programming', 'Calculus', 'Data Engineering', 'Data Structures', 'Machine Learning']\n"
     ]
    }
   ],
   "source": [
    "\"\"\"\n",
    "Uesful Methods for Lists\n",
    "\"\"\"\"\"\n",
    "\n",
    "# len() //리스트 크기 리턴_파이썬 지정 method\n",
    "knapsack = [2,4,3,7,10]\n",
    "size = len(knapsack)\n",
    "print(size)\n",
    "\n",
    "#count //특정 아이템 개수 리턴_list 내의 method\n",
    "backpack = ['pencile','pen','notebook','textbook','pen','hilighter','pen']\n",
    "numPen = backpack.count('pen')\n",
    "\n",
    "print(numPen)\n",
    "\n",
    "#append() //아이템을 리스트 끝에 추가\n",
    "orders = ['daisies','periwinkle']\n",
    "print(orders)\n",
    "orders\n",
    "orders.append('tulips')\n",
    "print(orders)\n",
    "\n",
    "#insert() //아이템을 리스트의 특정 위치에 추가\n",
    "store_line = ['karla','maxium','Martim','Isabella']\n",
    "print(store_line)\n",
    "store_line.insert(3,'Vikor')\n",
    "print(store_line)\n",
    "\n",
    "#pop() //특정 위치의 아이템 삭제-pop(); 리스트의 마지막 아이템 삭제\n",
    "store_line.pop(4)\n",
    "print(store_line)\n",
    "\n",
    "#remove() //특정 아이템 삭제\n",
    "sw_subjects = ['C programming','Machine Learning','Data Engineering',\n",
    "              'Data Structures', 'Calculus']\n",
    "print(sw_subjects)\n",
    "\"\"\"\n",
    "sw_subjects.pop()\n",
    "sw_subjects.remove('Calculus')\n",
    "# sw_subjects.remove('Algorithms') >> x not in list error\n",
    "print(sw_subjects)\"\"\"\n",
    "\n",
    "#sort() //리스트 내 아이템들을 정렬-원본객체의 순서정렬, 주로 오릅차순\n",
    "numbers = [4,2,1,3]\n",
    "print(numbers)\n",
    "numbers.sort()\n",
    "print(numbers)\n",
    "hsu_buildings = ['만우관','장공관','필헌관','소통관','송암관','늦봄관','장준하통일관']\n",
    "hsu_buildings.sort()\n",
    "print(hsu_buildings)\n",
    "\n",
    "#sorted() //정렬된 리스트를 리턴-원본 리스트 정렬후 해당 값을 sorted list에 할당, 원본은 유지\n",
    "sorted_sw_subjects = sorted(sw_subjects)\n",
    "print(sorted_sw_subjects)\n"
   ]
  },
  {
   "cell_type": "code",
   "execution_count": null,
   "metadata": {},
   "outputs": [],
   "source": []
  }
 ],
 "metadata": {
  "kernelspec": {
   "display_name": "Python 3",
   "language": "python",
   "name": "python3"
  },
  "language_info": {
   "codemirror_mode": {
    "name": "ipython",
    "version": 3
   },
   "file_extension": ".py",
   "mimetype": "text/x-python",
   "name": "python",
   "nbconvert_exporter": "python",
   "pygments_lexer": "ipython3",
   "version": "3.7.6"
  }
 },
 "nbformat": 4,
 "nbformat_minor": 4
}
