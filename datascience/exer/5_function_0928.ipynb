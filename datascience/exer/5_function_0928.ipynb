{
 "cells": [
  {
   "cell_type": "code",
   "execution_count": 5,
   "metadata": {},
   "outputs": [
    {
     "name": "stdout",
     "output_type": "stream",
     "text": [
      "4\n"
     ]
    },
    {
     "data": {
      "text/plain": [
       "3"
      ]
     },
     "execution_count": 5,
     "metadata": {},
     "output_type": "execute_result"
    }
   ],
   "source": [
    "\"\"\"\n",
    "Function\n",
    "\"\"\"\n",
    "\n",
    "def my_function(x):\n",
    "    return x+1\n",
    "y = 3\n",
    "print(my_function(y))\n",
    "\n",
    "#Method\n",
    "class my_class:\n",
    "#     @staticmethod #매개변수를 메서드에 넣을 수 있음\n",
    "    def my_method(self): #매개변수를 따로 받지 않음\n",
    "        return x+1\n",
    "cls = my_class() #class의 객체 이름 지정\n",
    "x = 2\n",
    "cls.my_method()"
   ]
  },
  {
   "cell_type": "code",
   "execution_count": 7,
   "metadata": {},
   "outputs": [
    {
     "name": "stdout",
     "output_type": "stream",
     "text": [
      "Hello everyone, My nme is MiHyun, I was born in 2000, ad I live in Anyang,\n"
     ]
    }
   ],
   "source": [
    "\"\"\"\n",
    "Function Parameters\n",
    "\"\"\"\n",
    "\n",
    "def introduce_myself(name, birthyear, city): #parameter\n",
    "    print(\"Hello everyone, My nme is %s, I was born in %d, and I live in %s,\"\n",
    "         %(name,birthyear,city))\n",
    "introduce_myself(\"MiHyun\", 2000, \"Anyang\") #argument "
   ]
  },
  {
   "cell_type": "code",
   "execution_count": 12,
   "metadata": {},
   "outputs": [
    {
     "data": {
      "text/plain": [
       "'2021 is not a leap year'"
      ]
     },
     "execution_count": 12,
     "metadata": {},
     "output_type": "execute_result"
    }
   ],
   "source": [
    "\"\"\"\n",
    "Return Keyword\n",
    "\"\"\"\n",
    "#leap year = 윤년(2월 29일)\n",
    "def check_leap_year(year):\n",
    "    if year % 4 == 0:\n",
    "        return \"%s is a leap year.\" %(year)\n",
    "    else:\n",
    "        return \"%s is not a leap year\" %(year)\n",
    "    \n",
    "check_leap_year(2021)"
   ]
  },
  {
   "cell_type": "code",
   "execution_count": 15,
   "metadata": {},
   "outputs": [
    {
     "name": "stdout",
     "output_type": "stream",
     "text": [
      "9 16 25\n"
     ]
    }
   ],
   "source": [
    "\"\"\"\n",
    "Returning Multiple Values\n",
    "\"\"\"\n",
    "\n",
    "def square_point(x,y,z):\n",
    "    x_squared = x ** 2\n",
    "    y_squared = y ** 2\n",
    "    z_squared = z ** 2\n",
    "    return x_squared, y_squared, z_squared #여러개의 값을 한번에 반환가능\n",
    "three_squared, four_squared, five_squared = square_point(3,4,5)\n",
    "print(three_squared, four_squared, five_squared)"
   ]
  },
  {
   "cell_type": "code",
   "execution_count": 18,
   "metadata": {},
   "outputs": [
    {
     "name": "stdout",
     "output_type": "stream",
     "text": [
      "Hello\n",
      "Hello\n"
     ]
    }
   ],
   "source": [
    "\"\"\"\n",
    "Global Variables\n",
    "\"\"\"\n",
    "\n",
    "a = \"Hello\" #global var\n",
    "\n",
    "def print_a():\n",
    "    print(a)\n",
    "print(a)\n",
    "print_a()"
   ]
  },
  {
   "cell_type": "code",
   "execution_count": 23,
   "metadata": {},
   "outputs": [
    {
     "name": "stdout",
     "output_type": "stream",
     "text": [
      "2\n",
      "5\n"
     ]
    }
   ],
   "source": [
    "\"\"\"\n",
    "Local variable\n",
    "\"\"\"\n",
    "b = 5 #gloal var\n",
    "def f1():\n",
    "    b = 2 #local var\n",
    "    print(b)\n",
    "    \n",
    "f1()\n",
    "# print(b) #error - name 'b' is nokt defined\n",
    "print(b) "
   ]
  },
  {
   "cell_type": "code",
   "execution_count": 25,
   "metadata": {},
   "outputs": [
    {
     "name": "stdout",
     "output_type": "stream",
     "text": [
      "Height = 1\n",
      "Width = 2\n",
      "Depth = 3\n",
      "6\n"
     ]
    }
   ],
   "source": [
    "\"\"\"\n",
    "Keyword Argument\n",
    "\"\"\"\n",
    "\n",
    "def findvolume(height=1, width=1, depth =1):\n",
    "#     print(\"Height = \" +str(height))\n",
    "#     print(\"Width = \" +str(width))\n",
    "#     print(\"Depth = \" +str(depth))\n",
    "    print(\"Height = %s\" %(height))\n",
    "    print(\"Width = %s\" %(width))\n",
    "    print(\"Depth = %s\" %(depth))\n",
    "    return height * width * depth\n",
    "\n",
    "#ex: height = 1, width = 2, depth = 3\n",
    "print(findvolume(width = 2,height=1,depth=3))\n",
    "#함수 정의시 parameter 정의 해주면 입력인자에서 혹시 빼먹어도 함수 돌아감\n"
   ]
  }
 ],
 "metadata": {
  "kernelspec": {
   "display_name": "Python 3",
   "language": "python",
   "name": "python3"
  },
  "language_info": {
   "codemirror_mode": {
    "name": "ipython",
    "version": 3
   },
   "file_extension": ".py",
   "mimetype": "text/x-python",
   "name": "python",
   "nbconvert_exporter": "python",
   "pygments_lexer": "ipython3",
   "version": "3.7.6"
  }
 },
 "nbformat": 4,
 "nbformat_minor": 4
}
